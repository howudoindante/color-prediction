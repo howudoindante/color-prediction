{
 "cells": [
  {
   "cell_type": "code",
   "execution_count": 30,
   "metadata": {},
   "outputs": [
    {
     "name": "stdout",
     "output_type": "stream",
     "text": [
      "Hello World\n"
     ]
    }
   ],
   "source": [
    "print (\"Hello World\")"
   ]
  },
  {
   "cell_type": "code",
   "execution_count": 31,
   "metadata": {},
   "outputs": [],
   "source": [
    "import numpy \n",
    "import os"
   ]
  },
  {
   "cell_type": "code",
   "execution_count": 32,
   "metadata": {},
   "outputs": [],
   "source": [
    "def NN(m1,m2,w1,w2,b): \n",
    "    z=m1*w1+m2*w2+b \n",
    "    return sigmoid(z)"
   ]
  },
  {
   "cell_type": "code",
   "execution_count": 33,
   "metadata": {},
   "outputs": [],
   "source": [
    "w1 = numpy.random.randn()   \n",
    "w2 = numpy.random.randn() \n",
    "b = numpy.random.randn() "
   ]
  },
  {
   "cell_type": "code",
   "execution_count": 34,
   "metadata": {},
   "outputs": [],
   "source": [
    "phrases = ['seems like its','I guess' ,'I think' , 'looks like' ,'guessing...']"
   ]
  },
  {
   "cell_type": "code",
   "execution_count": 35,
   "metadata": {},
   "outputs": [],
   "source": [
    "data = [[3,1.5,1],[2,1,0],[4,1.5,1],[3,1,0],[3.5,.5,1],[2,.5,0],[5.5,1,1],[1,1,0]]"
   ]
  },
  {
   "cell_type": "code",
   "execution_count": 36,
   "metadata": {},
   "outputs": [
    {
     "name": "stdout",
     "output_type": "stream",
     "text": [
      "8\n"
     ]
    }
   ],
   "source": [
    "rand_data = data[numpy.random.randint(len(data))] \n",
    "print(len(data))"
   ]
  },
  {
   "cell_type": "code",
   "execution_count": 37,
   "metadata": {},
   "outputs": [],
   "source": [
    "def sigmoid(x): \n",
    "    return 1/(1+numpy.exp(-x))"
   ]
  },
  {
   "cell_type": "code",
   "execution_count": 38,
   "metadata": {},
   "outputs": [],
   "source": [
    "new_data= [4,1.5,1]"
   ]
  },
  {
   "cell_type": "code",
   "execution_count": 39,
   "metadata": {},
   "outputs": [],
   "source": [
    "m1 = rand_data[0] \n",
    "m2 = rand_data[1]"
   ]
  },
  {
   "cell_type": "code",
   "execution_count": 40,
   "metadata": {},
   "outputs": [
    {
     "name": "stdout",
     "output_type": "stream",
     "text": [
      "I guess blue\n",
      "1 0.000980442177553506\n"
     ]
    }
   ],
   "source": [
    "prediction = NN(m1,m2,w1,w2,b)  \n",
    "prediction_text = [\"blue\",\"red\"][int(numpy.round(prediction))] \n",
    "phrase = numpy.random.choice(phrases) + \" \" + prediction_text \n",
    "print(phrase)  \n",
    "print (rand_data[2], prediction) \n",
    "o = os.system(\"say \"+ phrase) "
   ]
  },
  {
   "cell_type": "code",
   "execution_count": 41,
   "metadata": {},
   "outputs": [
    {
     "name": "stdout",
     "output_type": "stream",
     "text": [
      "Its really red\n",
      "if 1 then color is red.if 0 then color is blue \n"
     ]
    }
   ],
   "source": [
    "print(\"Its really \" + [\"blue\",\"red\"][rand_data[2]]) \n",
    "print(\"if 1 then color is red.if 0 then color is blue \") "
   ]
  },
  {
   "cell_type": "code",
   "execution_count": 42,
   "metadata": {},
   "outputs": [],
   "source": [
    "def train():\n",
    "    w1 = numpy.random.randn()   \n",
    "    w2 = numpy.random.randn() \n",
    "    b = numpy.random.randn() \n",
    "    learning_rate = 0.2\n",
    "    \n",
    "    \n",
    "    \n",
    "    for i in range(50000): \n",
    "        rand_data = data[numpy.random.randint(len(data))]\n",
    "        m1 = rand_data[0] \n",
    "        m2 = rand_data[1]\n",
    "        def NN(m1,m2,w1,w2,b): \n",
    "            z=m1*w1+m2*w2+b \n",
    "            return sigmoid(z) \n",
    "        def cost(pred,target):\n",
    "            return (pred - target)**2\n",
    "        \n",
    "        def dcost_dpred(pred,target): \n",
    "            return 2*(pred - target) \n",
    "        def dpred_dz (sigmoid): \n",
    "            return sigmoid * (1-sigmoid) \n",
    "        dz_dw1 = rand_data[0] \n",
    "        dz_dw2 = rand_data[1]  \n",
    "        dz_db = 1 \n",
    "         \n",
    "        dcost_dw1 = dcost_dpred(NN(m1,m2,w1,w2,b),rand_data[2]) * dpred_dz(NN(m1,m2,w1,w2,b))* dz_dw1\n",
    "        dcost_dw2 = dcost_dpred(NN(m1,m2,w1,w2,b),rand_data[2]) * dpred_dz(NN(m1,m2,w1,w2,b))* dz_dw2\n",
    "        dcost_db = dcost_dpred(NN(m1,m2,w1,w2,b),rand_data[2]) * dpred_dz(NN(m1,m2,w1,w2,b))* dz_db\n",
    "        \n",
    "        w1 -= learning_rate * dcost_dw1 \n",
    "        w2 -= learning_rate * dcost_dw2 \n",
    "        b -= learning_rate * dcost_db\n",
    "    return w1,w2,b"
   ]
  },
  {
   "cell_type": "code",
   "execution_count": 43,
   "metadata": {
    "scrolled": false
   },
   "outputs": [
    {
     "data": {
      "text/plain": [
       "(6.945339903113464, 3.1833243103666216, -24.600047910190323)"
      ]
     },
     "execution_count": 43,
     "metadata": {},
     "output_type": "execute_result"
    }
   ],
   "source": [
    "train()"
   ]
  },
  {
   "cell_type": "code",
   "execution_count": 44,
   "metadata": {},
   "outputs": [],
   "source": [
    "weights = train()"
   ]
  },
  {
   "cell_type": "code",
   "execution_count": 45,
   "metadata": {},
   "outputs": [],
   "source": [
    "w1 = weights[0]"
   ]
  },
  {
   "cell_type": "code",
   "execution_count": 46,
   "metadata": {},
   "outputs": [],
   "source": [
    "w2 = weights[1]"
   ]
  },
  {
   "cell_type": "code",
   "execution_count": 47,
   "metadata": {},
   "outputs": [],
   "source": [
    "b = weights[2]"
   ]
  },
  {
   "cell_type": "code",
   "execution_count": 48,
   "metadata": {},
   "outputs": [],
   "source": [
    "rand_data = data[numpy.random.randint(len(data))] \n",
    "m1 = rand_data[0] \n",
    "m2 = rand_data[1]"
   ]
  },
  {
   "cell_type": "code",
   "execution_count": 49,
   "metadata": {
    "scrolled": false
   },
   "outputs": [
    {
     "name": "stdout",
     "output_type": "stream",
     "text": [
      "seems like its blue\n",
      "0 0.34431597948339365\n"
     ]
    }
   ],
   "source": [
    "prediction = NN(m1,m2,w1,w2,b)  \n",
    "prediction_text = [\"blue\",\"red\"][int(numpy.round(prediction))] \n",
    "phrase = numpy.random.choice(phrases) + \" \" + prediction_text \n",
    "print(phrase)  \n",
    "print (rand_data[2], prediction) \n",
    "o = os.system(\"say \"+ phrase) "
   ]
  },
  {
   "cell_type": "code",
   "execution_count": 50,
   "metadata": {
    "scrolled": false
   },
   "outputs": [
    {
     "name": "stdout",
     "output_type": "stream",
     "text": [
      "Its really blue\n",
      "if 1 then color is red.if 0 then color is blue \n"
     ]
    }
   ],
   "source": [
    "print(\"Its really \" + [\"blue\",\"red\"][rand_data[2]]) \n",
    "print(\"if 1 then color is red.if 0 then color is blue \") "
   ]
  },
  {
   "cell_type": "code",
   "execution_count": 51,
   "metadata": {},
   "outputs": [
    {
     "name": "stdout",
     "output_type": "stream",
     "text": [
      "I guess red\n",
      "1 0.9996264317694172\n"
     ]
    }
   ],
   "source": [
    "prediction = NN(new_data[0],new_data[1],w1,w2,b)  \n",
    "prediction_text = [\"blue\",\"red\"][int(numpy.round(prediction))] \n",
    "phrase = numpy.random.choice(phrases) + \" \" + prediction_text \n",
    "print(phrase)  \n",
    "print (new_data[2], prediction) \n",
    "o = os.system(\"say \"+ phrase) "
   ]
  },
  {
   "cell_type": "code",
   "execution_count": 52,
   "metadata": {},
   "outputs": [
    {
     "name": "stdout",
     "output_type": "stream",
     "text": [
      "Its really red\n",
      "if 1 then color is red.if 0 then color is blue \n"
     ]
    }
   ],
   "source": [
    "print(\"Its really \" + [\"blue\",\"red\"][new_data[2]]) \n",
    "print(\"if 1 then color is red.if 0 then color is blue \") "
   ]
  }
 ],
 "metadata": {
  "kernelspec": {
   "display_name": "Python 3",
   "language": "python",
   "name": "python3"
  },
  "language_info": {
   "codemirror_mode": {
    "name": "ipython",
    "version": 3
   },
   "file_extension": ".py",
   "mimetype": "text/x-python",
   "name": "python",
   "nbconvert_exporter": "python",
   "pygments_lexer": "ipython3",
   "version": "3.8.3"
  }
 },
 "nbformat": 4,
 "nbformat_minor": 4
}
